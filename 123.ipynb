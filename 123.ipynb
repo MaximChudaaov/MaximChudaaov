{
 "cells": [
  {
   "cell_type": "markdown",
   "metadata": {
    "id": "XjK7jJ3nvLH_"
   },
   "source": [
    "# Семинар № 2"
   ]
  },
  {
   "cell_type": "markdown",
   "metadata": {
    "id": "rSUnTTjDvXBX"
   },
   "source": [
    "__Дата:__ 15.09.2022     \n",
    "__Выполнил:__ ФИО    \n",
    "__Группа:__ "
   ]
  },
  {
   "cell_type": "markdown",
   "metadata": {
    "id": "7rgyVoZBqhGY"
   },
   "source": [
    "## Задания по семинару 2"
   ]
  },
  {
   "cell_type": "markdown",
   "metadata": {
    "id": "2APP7YeiqhGe"
   },
   "source": [
    "0) Получить переменную, содержащую строку со значением равным двум в одиннадцатой степени и вывести ее на экран."
   ]
  },
  {
   "cell_type": "code",
   "execution_count": null,
   "metadata": {},
   "outputs": [],
   "source": [
    "sring = 2 ** 11\n",
    "print(sring)"
   ]
  },
  {
   "cell_type": "markdown",
   "metadata": {
    "id": "w6ahLSkeqhGg"
   },
   "source": [
    "1) Наибольшим количеством способов создать строковую переменную, содержащую текст:\n",
    "\n",
    "It's \"quoted string\"\n",
    "\n",
    "2) Наибольшим количеством способов создать строковую переменную, содержащую текст:\n",
    "\n",
    "line1\n",
    "\n",
    "line2\n",
    "\n",
    "line3\n",
    "\n",
    "3) Наибольшим количеством способов создать строковую переменную, содержащую текст:\n",
    "\n",
    "\\\\\\\\\\\\\\\\\n",
    "\n",
    "\\\\\\\\\\\\\n",
    "\n",
    "\\\\\\\\\n",
    "\n",
    "\\\\"
   ]
  },
  {
   "cell_type": "code",
   "execution_count": null,
   "metadata": {},
   "outputs": [],
   "source": []
  },
  {
   "cell_type": "code",
   "execution_count": null,
   "metadata": {
    "id": "88SbAdwgrB-Y"
   },
   "outputs": [],
   "source": []
  },
  {
   "cell_type": "markdown",
   "metadata": {
    "id": "Jnji_LRuqhGi"
   },
   "source": [
    "4) Вывести 5й с начала и 5й с конца символ из строки 'Hello world'"
   ]
  },
  {
   "cell_type": "code",
   "execution_count": 1,
   "metadata": {
    "id": "VzIqouscrDtQ"
   },
   "outputs": [
    {
     "name": "stdout",
     "output_type": "stream",
     "text": [
      "o w\n"
     ]
    }
   ],
   "source": [
    "sring = \"Hello world\"\n",
    "print(sring[4], sring[-5])"
   ]
  },
  {
   "cell_type": "markdown",
   "metadata": {
    "id": "JnuM2cAjqhGj"
   },
   "source": [
    "5) Двумя способами получить символ 'w' из строки 'Hello world'"
   ]
  },
  {
   "cell_type": "code",
   "execution_count": null,
   "metadata": {
    "id": "F4k-lRg-rE8B"
   },
   "outputs": [],
   "source": [
    "sring = \"Hello world\"\n",
    "print(sring[6])\n",
    "print(sring[-5])"
   ]
  },
  {
   "cell_type": "markdown",
   "metadata": {
    "id": "KAONbd3GqhGj"
   },
   "source": [
    "6) Вывести символ, находящийся в середине заранее низвестной строки, полученной с помощью функции input()"
   ]
  },
  {
   "cell_type": "code",
   "execution_count": 2,
   "metadata": {
    "id": "_qFv1vUmrFuw"
   },
   "outputs": [
    {
     "name": "stdout",
     "output_type": "stream",
     "text": [
      "12345\n",
      "3\n"
     ]
    }
   ],
   "source": [
    "sring = input()\n",
    "print(sring[len(sring) // 2])"
   ]
  },
  {
   "cell_type": "markdown",
   "metadata": {
    "id": "f5MmqsmvqhGk"
   },
   "source": [
    "7) Для строки 'Light ray' двумя способами получить подстроку с 1го по 4й символы включительно."
   ]
  },
  {
   "cell_type": "code",
   "execution_count": 4,
   "metadata": {
    "id": "7KMgVYvorGVQ"
   },
   "outputs": [
    {
     "name": "stdout",
     "output_type": "stream",
     "text": [
      "Ligh\n",
      "Ligh\n"
     ]
    }
   ],
   "source": [
    "sring = \"Light ray\"\n",
    "print(sring[0:4])\n",
    "print(sring[0] + sring[1] + sring[2] + sring[3])"
   ]
  },
  {
   "cell_type": "markdown",
   "metadata": {
    "id": "HNRNiFEiqhGk"
   },
   "source": [
    "8) Для строки 'My new text' двумя способами получить подстроку с 3го по 7й символы включительно."
   ]
  },
  {
   "cell_type": "code",
   "execution_count": null,
   "metadata": {
    "id": "uwz9VDxyrHEq"
   },
   "outputs": [],
   "source": [
    "sring = \"My new text\"\n",
    "print(sring[2:7])\n",
    "print(sring[2] + sring[3] + sring[4] + sring[5] + sring[6])"
   ]
  },
  {
   "cell_type": "markdown",
   "metadata": {
    "id": "6uECBGzuqhGl"
   },
   "source": [
    "9) Получить подстроку из последних 4х символов строки 'Light ray'."
   ]
  },
  {
   "cell_type": "code",
   "execution_count": 13,
   "metadata": {
    "id": "TZVLmEdprxdO"
   },
   "outputs": [
    {
     "name": "stdout",
     "output_type": "stream",
     "text": [
      " ray\n"
     ]
    }
   ],
   "source": [
    "sring = \"Light ray\"\n",
    "print(sring[-4:])"
   ]
  },
  {
   "cell_type": "markdown",
   "metadata": {
    "id": "Rwx_cDDAqhGl"
   },
   "source": [
    "10) Составить строку из всех четных символов строки 'Light ray'."
   ]
  },
  {
   "cell_type": "code",
   "execution_count": 8,
   "metadata": {
    "id": "sK7uVDElryVu"
   },
   "outputs": [
    {
     "name": "stdout",
     "output_type": "stream",
     "text": [
      "Lgtry\n"
     ]
    }
   ],
   "source": [
    "sring = \"Light ray\"\n",
    "print(sring[1::2])"
   ]
  },
  {
   "cell_type": "markdown",
   "metadata": {
    "id": "G6UHIWG2qhGm"
   },
   "source": [
    "11) Составить строку из всех нечетных символов строки 'Light ray'."
   ]
  },
  {
   "cell_type": "code",
   "execution_count": null,
   "metadata": {
    "id": "GPGz1YF2r0G-"
   },
   "outputs": [],
   "source": [
    "sring = \"Light ray\"\n",
    "print(sring[::2])"
   ]
  },
  {
   "cell_type": "markdown",
   "metadata": {
    "id": "1FyabftVqhGm"
   },
   "source": [
    "12) Инвертировать (получить строку с обратной последовательностью символо) строку  'Light ray'."
   ]
  },
  {
   "cell_type": "code",
   "execution_count": 9,
   "metadata": {
    "id": "WZ8MK7NHr00u",
    "scrolled": true
   },
   "outputs": [
    {
     "name": "stdout",
     "output_type": "stream",
     "text": [
      "yar thgiL\n"
     ]
    }
   ],
   "source": [
    "sring = \"Light ray\"\n",
    "print(sring[::-1])"
   ]
  },
  {
   "cell_type": "markdown",
   "metadata": {
    "id": "Syxgu_ASqhGn"
   },
   "source": [
    "13) Вывести c третьего с начала до предпоследнего символа заранее низвестной строки, полученной с помощью функции input()."
   ]
  },
  {
   "cell_type": "code",
   "execution_count": null,
   "metadata": {
    "id": "6HFrZafRr1cO"
   },
   "outputs": [],
   "source": [
    "print(input()[2:-1])"
   ]
  },
  {
   "cell_type": "markdown",
   "metadata": {
    "id": "wsqRV2RNqhGn"
   },
   "source": [
    "14) Получить подстроку неизвестной заранее строки, содержащую половину символов строки и расположенную по середине строки."
   ]
  },
  {
   "cell_type": "code",
   "execution_count": 12,
   "metadata": {
    "id": "l10EWZBIr2am"
   },
   "outputs": [
    {
     "name": "stdout",
     "output_type": "stream",
     "text": [
      "12345678\n",
      "3456\n"
     ]
    }
   ],
   "source": [
    "sring = input()\n",
    "print(sring[len(sring) // 4:-len(sring)//4])"
   ]
  },
  {
   "cell_type": "markdown",
   "metadata": {
    "id": "nyLFkgSaqhGo"
   },
   "source": [
    "15) Проверить, содержит ли произвольная строка, прочитанная в обратную сторону последовательность 'eno' "
   ]
  },
  {
   "cell_type": "code",
   "execution_count": null,
   "metadata": {
    "id": "3IV_dOcTr3Te"
   },
   "outputs": [],
   "source": [
    "sring = input()\n",
    "sring = sring[::-1]\n",
    "if \"eno\" in sring:\n",
    "    print(\"Yes\")\n",
    "else:\n",
    "    print(\"No\")"
   ]
  },
  {
   "cell_type": "markdown",
   "metadata": {
    "id": "SKTte2HoqhGo"
   },
   "source": [
    "16) Получить строку, начинающуюся с последних 3 символов стркои 'Light ray', а заканчивающуюся подстрокой с 1го до 4го  символоа строки."
   ]
  },
  {
   "cell_type": "code",
   "execution_count": 14,
   "metadata": {
    "id": "eWbhQBkA5iZ7"
   },
   "outputs": [
    {
     "name": "stdout",
     "output_type": "stream",
     "text": [
      "rayLigh\n"
     ]
    }
   ],
   "source": [
    "sring = \"Light ray\"\n",
    "print(sring[-3:] + sring[:4])"
   ]
  },
  {
   "cell_type": "markdown",
   "metadata": {
    "id": "j7wQXWvHqhGp"
   },
   "source": [
    "17) Коротко записать создание строки 'oneoneoneoneoneonetwotwotwo'"
   ]
  },
  {
   "cell_type": "code",
   "execution_count": 15,
   "metadata": {},
   "outputs": [
    {
     "name": "stdout",
     "output_type": "stream",
     "text": [
      "oneoneoneoneoneonetwotwotwo\n"
     ]
    }
   ],
   "source": [
    "print(\"one\" * 6 + \"two\" * 3)"
   ]
  },
  {
   "cell_type": "markdown",
   "metadata": {
    "id": "lNAfoa2a5hYz"
   },
   "source": []
  },
  {
   "cell_type": "markdown",
   "metadata": {
    "id": "-SoPObSxqhGp"
   },
   "source": [
    "18) Разбить строку '  one,two,three,four,five,six,seven,eight,nine,ten   ' на список из строк, состоящих только из названий цифр."
   ]
  },
  {
   "cell_type": "code",
   "execution_count": 16,
   "metadata": {},
   "outputs": [
    {
     "name": "stdout",
     "output_type": "stream",
     "text": [
      "one\n",
      "two\n",
      "three\n",
      "four\n",
      "five\n",
      "six\n",
      "seven\n",
      "eight\n",
      "nine\n",
      "ten\n"
     ]
    }
   ],
   "source": [
    "string =  \"one,two,three,four,five,six,seven,eight,nine,ten\".split(\",\")\n",
    "for _ in string:\n",
    "    print(_)"
   ]
  },
  {
   "cell_type": "markdown",
   "metadata": {
    "id": "G4tGp_2nqhGq"
   },
   "source": [
    "19) Вставить между всеми символами строки 'Hello world' стрелочку '->' и сохранить результат в строковой переменной(ожидаемый результат: 'H->e->l->l->o-> ->w->o->r->l->d')"
   ]
  },
  {
   "cell_type": "code",
   "execution_count": 24,
   "metadata": {},
   "outputs": [
    {
     "name": "stdout",
     "output_type": "stream",
     "text": [
      "H->e->l->l->o-> ->w->o->r->l->d\n"
     ]
    }
   ],
   "source": [
    "string =  'Hello world'\n",
    "string = \"->\".join(string)\n",
    "print(string)"
   ]
  },
  {
   "cell_type": "markdown",
   "metadata": {
    "id": "5dVEpedLqhGq"
   },
   "source": [
    "20) Для двух произвольных строк провести сравнение на совпадение содержимого без учета регистра букв и начальных и конечных пробельных символов. Например, для двух строк '  HeLLO WOrlD' и 'hello WORLD  ' такое сравнение должно возвращать True (содержание строк совпадает)."
   ]
  },
  {
   "cell_type": "code",
   "execution_count": 28,
   "metadata": {},
   "outputs": [
    {
     "name": "stdout",
     "output_type": "stream",
     "text": [
      "   qwe   \n",
      "QWE\n",
      "True\n"
     ]
    }
   ],
   "source": [
    "str_1 = input().strip().lower()\n",
    "str_2 = input().strip().lower()\n",
    "print(str_1==str_2)"
   ]
  },
  {
   "cell_type": "markdown",
   "metadata": {
    "id": "VvFWyT85qhGq"
   },
   "source": [
    "21) В строке 'hello hello Hello hello' средствами Python найти индекс второго вхождения подстроки 'hel' "
   ]
  },
  {
   "cell_type": "code",
   "execution_count": 36,
   "metadata": {},
   "outputs": [
    {
     "name": "stdout",
     "output_type": "stream",
     "text": [
      "6\n"
     ]
    }
   ],
   "source": [
    "str_1 = 'hello hello Hello hello'\n",
    "count_1 = str_1.index(\"hel\")\n",
    "print(str_1[count_1 + 1:].index(\"hel\") + 1)"
   ]
  },
  {
   "cell_type": "markdown",
   "metadata": {
    "id": "U5ASVcDTqhGr"
   },
   "source": [
    "22) В строке 'hello hello Hello hello' средствами Python найти индекс второго с конца вхождения подстроки 'hel'"
   ]
  },
  {
   "cell_type": "code",
   "execution_count": 41,
   "metadata": {},
   "outputs": [
    {
     "name": "stdout",
     "output_type": "stream",
     "text": [
      "13\n"
     ]
    }
   ],
   "source": [
    "str_1 = 'hello hello Hello hello'\n",
    "str_1 = str_1[::-1]\n",
    "count_1 = str_1.index(\"leh\")\n",
    "\n",
    "\n",
    "print(len(str_1) - (str_1[count_1 + 1:].index(\"leh\") + 1 - 2))"
   ]
  },
  {
   "cell_type": "markdown",
   "metadata": {
    "id": "RdxXPliKqhGr"
   },
   "source": [
    "23) Из заранее неизвестной строки вырезать подстроку, начинающуюся с 'he' и заканчивающееся 'on' (протестировать на строке ' start hello python world'."
   ]
  },
  {
   "cell_type": "markdown",
   "metadata": {
    "id": "eSy9E-T0qhGr"
   },
   "source": [
    "24)* Используя цикл for и функцию enumerate() (см. лекцию 2) в вывести произвольную строку на экран и при этом убрать все пробелы и на их месте вывести номер слова по счету (пример: исходная строка 'hello hello Hello hello' -> выведено на экран 'hello1hello2Hello3hello4')"
   ]
  },
  {
   "cell_type": "markdown",
   "metadata": {
    "id": "PiUdqxYAqhGr"
   },
   "source": [
    "25) Сформировать строку форматирования, которая для вызова format('val1', 'val2', 'val3') будет возрващать следующий результат: 'val3-val2-val1-val2-val3'"
   ]
  },
  {
   "cell_type": "markdown",
   "metadata": {
    "id": "jJibrzUOqhGs"
   },
   "source": [
    "26) Сформировать строку форматирования fs, которая на при использовании в нижеследующем коде приводит к формированию таблицы, выведенной в следующей ячейке."
   ]
  },
  {
   "cell_type": "markdown",
   "metadata": {
    "id": "eekxxiWUqhGs"
   },
   "source": [
    "Дополнительно: написать простейший текстовый редактор с построчным вводом строк, которые будут записаны в файл. Перед вводом текста пользователь должен ввести название файла. после ввода пустой строки программа должна завершиться"
   ]
  },
  {
   "cell_type": "code",
   "execution_count": null,
   "metadata": {
    "collapsed": true,
    "id": "_JkcD9lzqhGt"
   },
   "outputs": [],
   "source": []
  }
 ],
 "metadata": {
  "anaconda-cloud": {},
  "colab": {
   "provenance": []
  },
  "kernelspec": {
   "display_name": "Python 3 (ipykernel)",
   "language": "python",
   "name": "python3"
  },
  "language_info": {
   "codemirror_mode": {
    "name": "ipython",
    "version": 3
   },
   "file_extension": ".py",
   "mimetype": "text/x-python",
   "name": "python",
   "nbconvert_exporter": "python",
   "pygments_lexer": "ipython3",
   "version": "3.9.7"
  }
 },
 "nbformat": 4,
 "nbformat_minor": 1
}
